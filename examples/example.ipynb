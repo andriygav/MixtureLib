{
 "cells": [
  {
   "cell_type": "code",
   "execution_count": 1,
   "metadata": {},
   "outputs": [],
   "source": [
    "import matplotlib.pyplot as plt\n",
    "from matplotlib import gridspec\n",
    "\n",
    "import numpy as np\n",
    "import torch\n",
    "\n",
    "from tqdm import tqdm_notebook as tqdm"
   ]
  },
  {
   "cell_type": "code",
   "execution_count": 2,
   "metadata": {},
   "outputs": [],
   "source": [
    "plt.rcParams[\"font.family\"] = 'DejaVu Sans'\n",
    "\n",
    "plt.rcParams['text.usetex'] = True"
   ]
  },
  {
   "cell_type": "code",
   "execution_count": 3,
   "metadata": {},
   "outputs": [],
   "source": [
    "plt.rcParams['lines.linewidth'] = 3\n",
    "plt.rcParams['lines.markersize'] = 6\n",
    "plt.rcParams['xtick.labelsize'] = 36\n",
    "plt.rcParams['ytick.labelsize'] = 36\n",
    "plt.rcParams['legend.fontsize'] = 36\n",
    "plt.rcParams['axes.titlesize']=36\n",
    "plt.rcParams['axes.labelsize']=36\n",
    "plt.rcParams['figure.figsize'] = (8.0, 8.0)\n",
    "plt.rcParams['font.size'] = 40"
   ]
  },
  {
   "cell_type": "code",
   "execution_count": 4,
   "metadata": {},
   "outputs": [],
   "source": [
    "color = ['blue', 'red', 'black', 'black', 'black']"
   ]
  },
  {
   "cell_type": "code",
   "execution_count": 5,
   "metadata": {},
   "outputs": [
    {
     "ename": "SyntaxError",
     "evalue": "invalid syntax (Mixture.py, line 13)",
     "output_type": "error",
     "traceback": [
      "Traceback \u001b[0;36m(most recent call last)\u001b[0m:\n",
      "  File \u001b[1;32m\"/Library/Frameworks/Python.framework/Versions/3.6/lib/python3.6/site-packages/IPython/core/interactiveshell.py\"\u001b[0m, line \u001b[1;32m3267\u001b[0m, in \u001b[1;35mrun_code\u001b[0m\n    exec(code_obj, self.user_global_ns, self.user_ns)\n",
      "\u001b[0;36m  File \u001b[0;32m\"<ipython-input-5-6d464aa3871e>\"\u001b[0;36m, line \u001b[0;32m1\u001b[0;36m, in \u001b[0;35m<module>\u001b[0;36m\u001b[0m\n\u001b[0;31m    from MixtureLib.Mixture import MixtureEM\u001b[0m\n",
      "\u001b[0;36m  File \u001b[0;32m\"/Library/Frameworks/Python.framework/Versions/3.6/lib/python3.6/site-packages/MixtureLib/Mixture.py\"\u001b[0;36m, line \u001b[0;32m13\u001b[0m\n\u001b[0;31m    def fit(self, X = None, Y = None, epoch = 10, progress = None)\u001b[0m\n\u001b[0m                                                                  ^\u001b[0m\n\u001b[0;31mSyntaxError\u001b[0m\u001b[0;31m:\u001b[0m invalid syntax\n"
     ]
    }
   ],
   "source": [
    "from MixtureLib.Mixture import MixtureEM\n",
    "from MixtureLib.LocalModels import EachModelLinear\n",
    "from MixtureLib.HyperModels import HyperExpertNN, HyperModelDirichlet\n"
   ]
  },
  {
   "cell_type": "code",
   "execution_count": null,
   "metadata": {},
   "outputs": [],
   "source": [
    "device = torch.device(\"cuda\" if torch.cuda.is_available() else \"cpu\")\n",
    "device"
   ]
  },
  {
   "cell_type": "code",
   "execution_count": null,
   "metadata": {},
   "outputs": [],
   "source": [
    "np.random.seed(0)\n",
    "N = 100\n",
    "n = 2\n",
    "\n",
    "w1 = np.random.randn(n)\n",
    "X1 = np.random.multivariate_normal(-3*np.ones(n), np.eye(n), size = N)\n",
    "\n",
    "w2 = np.random.randn(n)\n",
    "X2 = np.random.multivariate_normal(3*np.ones(n), np.eye(n), size = N)\n",
    "\n",
    "X = np.vstack([X1, X2])\n",
    "\n",
    "Y = np.vstack([X1@w1, X2@w2])\n"
   ]
  },
  {
   "cell_type": "code",
   "execution_count": null,
   "metadata": {},
   "outputs": [],
   "source": [
    "FONT_SIZE = 12\n",
    "\n",
    "plt.rcParams['lines.linewidth'] = 3\n",
    "plt.rcParams['lines.markersize'] = 6\n",
    "plt.rcParams['xtick.labelsize'] = FONT_SIZE\n",
    "plt.rcParams['ytick.labelsize'] = FONT_SIZE\n",
    "plt.rcParams['legend.fontsize'] = FONT_SIZE\n",
    "plt.rcParams['axes.titlesize']=FONT_SIZE\n",
    "plt.rcParams['axes.labelsize']=FONT_SIZE\n",
    "plt.rcParams['figure.figsize'] = (5.0, 5.0)\n",
    "plt.rcParams['font.size'] = FONT_SIZE\n",
    "##############################################\n",
    "\n",
    "_ = plt.plot(X[:, 0], X[:, 1], '.')"
   ]
  },
  {
   "cell_type": "code",
   "execution_count": null,
   "metadata": {},
   "outputs": [],
   "source": [
    "W_true = np.array([w1, w2])"
   ]
  },
  {
   "cell_type": "code",
   "execution_count": null,
   "metadata": {},
   "outputs": [],
   "source": [
    "X_tr = torch.FloatTensor(X)\n",
    "Y_tr = torch.FloatTensor(Y).view([-1,1])\n",
    "\n",
    "X_tr.shape, Y_tr.shape"
   ]
  },
  {
   "cell_type": "markdown",
   "metadata": {},
   "source": [
    "# Mixture of Model Picture"
   ]
  },
  {
   "cell_type": "code",
   "execution_count": null,
   "metadata": {},
   "outputs": [],
   "source": [
    "K = 2\n",
    "epoch = 100"
   ]
  },
  {
   "cell_type": "code",
   "execution_count": null,
   "metadata": {},
   "outputs": [],
   "source": [
    "List_of_ind = []\n",
    "List_of_W = []\n",
    "\n",
    "LoM = []\n",
    "for k in range(K):\n",
    "    LoM.append(EachModelLinear(input_dim = n, device = device))\n",
    "\n",
    "HypPar = {'beta': 1}\n",
    "\n",
    "HpMd = HyperModelDirichlet(output_dim = K, device = device)\n",
    "\n",
    "model = MixtureEM(input_dim = n, K = K, HyperParameters = HypPar, HyperModel = HpMd, ListOfModels = LoM, device = device)\n",
    "\n",
    "for _ in tqdm(range(epoch)):\n",
    "    model.fit(X_tr, Y_tr, 1, progress = None)\n",
    "    List_of_ind.append(np.argmax(model.predict(X_tr)[1], axis = 1))\n",
    "    List_of_W.append(np.array([m.W.data.numpy().reshape(-1) for m in model.ListOfModels]))\n",
    "    \n",
    "List_of_ind = np.array(List_of_ind)\n",
    "List_of_W = np.array(List_of_W)\n"
   ]
  },
  {
   "cell_type": "code",
   "execution_count": null,
   "metadata": {},
   "outputs": [],
   "source": [
    "np.array([m.W.data.numpy().reshape(-1) for m in model.ListOfModels])"
   ]
  },
  {
   "cell_type": "code",
   "execution_count": null,
   "metadata": {},
   "outputs": [],
   "source": [
    "W_true"
   ]
  },
  {
   "cell_type": "code",
   "execution_count": null,
   "metadata": {},
   "outputs": [],
   "source": [
    "((Y_tr-model.predict(X_tr)[0])**2).mean()"
   ]
  },
  {
   "cell_type": "code",
   "execution_count": null,
   "metadata": {},
   "outputs": [],
   "source": [
    "FONT_SIZE = 24\n",
    "\n",
    "plt.rcParams['lines.linewidth'] = 3\n",
    "plt.rcParams['lines.markersize'] = 6\n",
    "plt.rcParams['xtick.labelsize'] = FONT_SIZE\n",
    "plt.rcParams['ytick.labelsize'] = FONT_SIZE\n",
    "plt.rcParams['legend.fontsize'] = FONT_SIZE\n",
    "plt.rcParams['axes.titlesize']=FONT_SIZE\n",
    "plt.rcParams['axes.labelsize']=FONT_SIZE\n",
    "plt.rcParams['figure.figsize'] = (25.0, 10.0)\n",
    "plt.rcParams['font.size'] = FONT_SIZE\n",
    "##############################################\n",
    "\n",
    "t = np.linspace(0, 2*np.pi, 100)\n",
    "\n",
    "colors = color\n",
    "\n",
    "\n",
    "fig = plt.figure();\n",
    "\n",
    "gs = gridspec.GridSpec(2, 5)\n",
    "\n",
    "ax = []\n",
    "for i, g in enumerate(gs):\n",
    "    ax.append(fig.add_subplot(g))\n",
    "    if (len(ax) - 1) % 5 == 0:\n",
    "        ax[-1].set_ylabel('$x_2$')\n",
    "    if len(ax) > 5:\n",
    "        ax[-1].set_xlabel('$x_1$')\n",
    "    \n",
    "IDX = np.arange(0, 100 , 10)\n",
    "    \n",
    "for e, (idx, _) in enumerate(zip(List_of_ind[IDX], List_of_W[IDX])):\n",
    "    for i in np.unique(idx):\n",
    "        indexes = np.where(idx == i)\n",
    "        _ = ax[e].plot(X[indexes, 0], X[indexes, 1], '.', color=color[i])\n",
    "\n",
    "plt.subplots_adjust(wspace=0.25, hspace=0.35)\n",
    "        \n",
    "plt.show()"
   ]
  },
  {
   "cell_type": "markdown",
   "metadata": {},
   "source": [
    "# Mixture of Experts Picture"
   ]
  },
  {
   "cell_type": "code",
   "execution_count": null,
   "metadata": {},
   "outputs": [],
   "source": [
    "K = 2\n",
    "epoch = 10"
   ]
  },
  {
   "cell_type": "code",
   "execution_count": null,
   "metadata": {},
   "outputs": [],
   "source": [
    "List_of_ind = []\n",
    "List_of_W = []\n",
    "\n",
    "LoM = []\n",
    "for k in range(K):\n",
    "    LoM.append(EachModelLinear(input_dim = n, device = device))\n",
    "\n",
    "HypPar = {'beta': 1}\n",
    "\n",
    "HpMd = HyperExpertNN(input_dim = n, hidden_dim = 5, output_dim = K, device = device, epochs=1000)\n",
    "\n",
    "model = MixtureEM(input_dim = n, K = K, HyperParameters = HypPar, HyperModel = HpMd, ListOfModels = LoM, device = device)\n",
    "\n",
    "for _ in tqdm(range(epoch)):\n",
    "    model.fit(X_tr, Y_tr, 1, progress = None)\n",
    "    List_of_ind.append(np.argmax(model.predict(X_tr)[1], axis = 1))\n",
    "    List_of_W.append(np.array([m.W.data.numpy().reshape(-1) for m in model.ListOfModels]))\n",
    "    "
   ]
  },
  {
   "cell_type": "code",
   "execution_count": null,
   "metadata": {},
   "outputs": [],
   "source": [
    "np.array([m.W.data.numpy().reshape(-1) for m in model.ListOfModels])"
   ]
  },
  {
   "cell_type": "code",
   "execution_count": null,
   "metadata": {},
   "outputs": [],
   "source": [
    "W_true"
   ]
  },
  {
   "cell_type": "code",
   "execution_count": null,
   "metadata": {},
   "outputs": [],
   "source": [
    "((Y_tr-model.predict(X_tr)[0])**2).mean()"
   ]
  },
  {
   "cell_type": "code",
   "execution_count": null,
   "metadata": {},
   "outputs": [],
   "source": [
    "FONT_SIZE = 24\n",
    "\n",
    "plt.rcParams['lines.linewidth'] = 3\n",
    "plt.rcParams['lines.markersize'] = 6\n",
    "plt.rcParams['xtick.labelsize'] = FONT_SIZE\n",
    "plt.rcParams['ytick.labelsize'] = FONT_SIZE\n",
    "plt.rcParams['legend.fontsize'] = FONT_SIZE\n",
    "plt.rcParams['axes.titlesize']=FONT_SIZE\n",
    "plt.rcParams['axes.labelsize']=FONT_SIZE\n",
    "plt.rcParams['figure.figsize'] = (25.0, 10.0)\n",
    "plt.rcParams['font.size'] = FONT_SIZE\n",
    "##############################################\n",
    "\n",
    "t = np.linspace(0, 2*np.pi, 100)\n",
    "\n",
    "colors = color\n",
    "\n",
    "\n",
    "fig = plt.figure();\n",
    "\n",
    "gs = gridspec.GridSpec(2, 5)\n",
    "\n",
    "ax = []\n",
    "for i, g in enumerate(gs):\n",
    "    ax.append(fig.add_subplot(g))\n",
    "    if (len(ax) - 1) % 5 == 0:\n",
    "        ax[-1].set_ylabel('$x_2$')\n",
    "    if len(ax) > 5:\n",
    "        ax[-1].set_xlabel('$x_1$')\n",
    "    \n",
    "\n",
    "for e, (idx, _) in enumerate(zip(List_of_ind[:10], List_of_W[:10])):\n",
    "    for i in np.unique(idx):\n",
    "        indexes = np.where(idx == i)\n",
    "        _ = ax[e].plot(X[indexes, 0], X[indexes, 1], '.', color=color[i])\n",
    "\n",
    "plt.subplots_adjust(wspace=0.25, hspace=0.35)\n",
    "        \n",
    "plt.show()"
   ]
  },
  {
   "cell_type": "code",
   "execution_count": null,
   "metadata": {},
   "outputs": [],
   "source": []
  }
 ],
 "metadata": {
  "kernelspec": {
   "display_name": "Python 3",
   "language": "python",
   "name": "python3"
  },
  "language_info": {
   "codemirror_mode": {
    "name": "ipython",
    "version": 3
   },
   "file_extension": ".py",
   "mimetype": "text/x-python",
   "name": "python",
   "nbconvert_exporter": "python",
   "pygments_lexer": "ipython3",
   "version": "3.6.2"
  }
 },
 "nbformat": 4,
 "nbformat_minor": 2
}
