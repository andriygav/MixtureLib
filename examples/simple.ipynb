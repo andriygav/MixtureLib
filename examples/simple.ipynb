{
 "cells": [
  {
   "cell_type": "code",
   "execution_count": 1,
   "metadata": {},
   "outputs": [],
   "source": [
    "import matplotlib.pyplot as plt\n",
    "from matplotlib import gridspec\n",
    "\n",
    "from tqdm import tqdm_notebook as tqdm\n",
    "import numpy as np\n",
    "import torch"
   ]
  },
  {
   "cell_type": "code",
   "execution_count": 2,
   "metadata": {},
   "outputs": [],
   "source": [
    "plt.rcParams[\"font.family\"] = 'DejaVu Sans'\n",
    "\n",
    "plt.rcParams['text.usetex'] = True"
   ]
  },
  {
   "cell_type": "code",
   "execution_count": 3,
   "metadata": {},
   "outputs": [],
   "source": [
    "plt.rcParams['lines.linewidth'] = 3\n",
    "plt.rcParams['lines.markersize'] = 6\n",
    "plt.rcParams['xtick.labelsize'] = 36\n",
    "plt.rcParams['ytick.labelsize'] = 36\n",
    "plt.rcParams['legend.fontsize'] = 36\n",
    "plt.rcParams['axes.titlesize']=36\n",
    "plt.rcParams['axes.labelsize']=36\n",
    "plt.rcParams['figure.figsize'] = (8.0, 8.0)\n",
    "plt.rcParams['font.size'] = 40"
   ]
  },
  {
   "cell_type": "code",
   "execution_count": 4,
   "metadata": {},
   "outputs": [],
   "source": [
    "color = ['blue', 'red', 'black', 'black', 'black']"
   ]
  },
  {
   "cell_type": "code",
   "execution_count": 5,
   "metadata": {},
   "outputs": [],
   "source": [
    "from MixtureLib.Mixture import MixtureEM, MixtureEmSample\n",
    "from MixtureLib.LocalModels import EachModelLinear\n",
    "from MixtureLib.HyperModels import HyperExpertNN, HyperModelDirichlet\n",
    "\n",
    "from MixtureLib.Regularizers import RegularizeModel"
   ]
  },
  {
   "cell_type": "code",
   "execution_count": 6,
   "metadata": {},
   "outputs": [
    {
     "data": {
      "text/plain": [
       "device(type='cpu')"
      ]
     },
     "execution_count": 6,
     "metadata": {},
     "output_type": "execute_result"
    }
   ],
   "source": [
    "device = torch.device(\"cuda\" if torch.cuda.is_available() else \"cpu\")\n",
    "device"
   ]
  },
  {
   "cell_type": "code",
   "execution_count": 7,
   "metadata": {},
   "outputs": [],
   "source": [
    "np.random.seed(0)\n",
    "N = 100\n",
    "n = 2\n",
    "\n",
    "w1 = np.random.randn(n)\n",
    "X1 = np.random.multivariate_normal(-3*np.ones(n), np.eye(n), size = N)\n",
    "\n",
    "w2 = np.random.randn(n)\n",
    "X2 = np.random.multivariate_normal(3*np.ones(n), np.eye(n), size = N)\n",
    "\n",
    "X = np.vstack([X1, X2])\n",
    "\n",
    "Y = np.hstack([X1@w1, X2@w2])\n",
    "Y += 0.1*np.random.randn(*Y.shape)\n",
    "\n"
   ]
  },
  {
   "cell_type": "code",
   "execution_count": 8,
   "metadata": {},
   "outputs": [
    {
     "data": {
      "image/png": "[encoded data removed]",
      "text/plain": [
       "<Figure size 360x360 with 1 Axes>"
      ]
     },
     "metadata": {},
     "output_type": "display_data"
    }
   ],
   "source": [
    "FONT_SIZE = 12\n",
    "\n",
    "plt.rcParams['lines.linewidth'] = 3\n",
    "plt.rcParams['lines.markersize'] = 6\n",
    "plt.rcParams['xtick.labelsize'] = FONT_SIZE\n",
    "plt.rcParams['ytick.labelsize'] = FONT_SIZE\n",
    "plt.rcParams['legend.fontsize'] = FONT_SIZE\n",
    "plt.rcParams['axes.titlesize']=FONT_SIZE\n",
    "plt.rcParams['axes.labelsize']=FONT_SIZE\n",
    "plt.rcParams['figure.figsize'] = (5.0, 5.0)\n",
    "plt.rcParams['font.size'] = FONT_SIZE\n",
    "##############################################\n",
    "\n",
    "_ = plt.plot(X[:, 0], X[:, 1], '.')"
   ]
  },
  {
   "cell_type": "code",
   "execution_count": 9,
   "metadata": {},
   "outputs": [],
   "source": [
    "W_true = np.array([w1, w2])"
   ]
  },
  {
   "cell_type": "code",
   "execution_count": 10,
   "metadata": {},
   "outputs": [
    {
     "data": {
      "text/plain": [
       "(torch.Size([200, 2]), torch.Size([200, 1]))"
      ]
     },
     "execution_count": 10,
     "metadata": {},
     "output_type": "execute_result"
    }
   ],
   "source": [
    "X_tr = torch.FloatTensor(X)\n",
    "Y_tr = torch.FloatTensor(Y).view([-1,1])\n",
    "\n",
    "X_tr.shape, Y_tr.shape"
   ]
  },
  {
   "cell_type": "markdown",
   "metadata": {},
   "source": [
    "# Simple Example Mixture of Experts"
   ]
  },
  {
   "cell_type": "code",
   "execution_count": 11,
   "metadata": {},
   "outputs": [],
   "source": [
    "K = 2\n",
    "epoch = 1000"
   ]
  },
  {
   "cell_type": "code",
   "execution_count": 12,
   "metadata": {},
   "outputs": [
    {
     "data": {
      "application/vnd.jupyter.widget-view+json": {
       "model_id": "61ce4f4dbeb54f398ec191cea065709b",
       "version_major": 2,
       "version_minor": 0
      },
      "text/plain": [
       "HBox(children=(IntProgress(value=0, max=1000), HTML(value='')))"
      ]
     },
     "metadata": {},
     "output_type": "display_data"
    },
    {
     "name": "stdout",
     "output_type": "stream",
     "text": [
      "\n"
     ]
    }
   ],
   "source": [
    "LIST_A = [torch.Tensor([1, 1]) for _ in range(K)]\n",
    "LIST_w = [torch.Tensor([[0.1], [0.1]]), torch.Tensor([[-0.1], [-0.1]])]\n",
    "\n",
    "LoM = []\n",
    "for k in range(K):\n",
    "    LoM.append(EachModelLinear(input_dim = n, device = device, A = torch.eye(2)*LIST_A[k], w = torch.ones(2,1)*LIST_w[k]))\n",
    "\n",
    "HypPar = {'beta': 1.}\n",
    "\n",
    "HpMd = HyperExpertNN(input_dim = n, hidden_dim = 5, output_dim = K, device = device, epochs=1)\n",
    "\n",
    "model = MixtureEmSample(input_dim = n, K = K, HyperParameters = HypPar, HyperModel = HpMd, ListOfModels = LoM, device = device)\n",
    "\n",
    "model.fit(X_tr, Y_tr, epoch, progress = tqdm)\n"
   ]
  },
  {
   "cell_type": "code",
   "execution_count": 13,
   "metadata": {},
   "outputs": [
    {
     "data": {
      "text/plain": [
       "array([[1.1241786 , 0.60832345],\n",
       "       [1.7835901 , 0.37953234]], dtype=float32)"
      ]
     },
     "execution_count": 13,
     "metadata": {},
     "output_type": "execute_result"
    }
   ],
   "source": [
    "np.array([m.W.data.numpy().reshape(-1) for m in model.ListOfModels])"
   ]
  },
  {
   "cell_type": "code",
   "execution_count": 14,
   "metadata": {},
   "outputs": [
    {
     "data": {
      "text/plain": [
       "array([[1.76405235, 0.40015721],\n",
       "       [1.0996596 , 0.65526373]])"
      ]
     },
     "execution_count": 14,
     "metadata": {},
     "output_type": "execute_result"
    }
   ],
   "source": [
    "W_true"
   ]
  },
  {
   "cell_type": "code",
   "execution_count": 15,
   "metadata": {},
   "outputs": [
    {
     "data": {
      "image/png": "[encoded data removed]",
      "text/plain": [
       "<Figure size 360x360 with 1 Axes>"
      ]
     },
     "metadata": {},
     "output_type": "display_data"
    }
   ],
   "source": [
    "FONT_SIZE = 24\n",
    "\n",
    "plt.rcParams['lines.linewidth'] = 3\n",
    "plt.rcParams['lines.markersize'] = 6\n",
    "plt.rcParams['xtick.labelsize'] = FONT_SIZE\n",
    "plt.rcParams['ytick.labelsize'] = FONT_SIZE\n",
    "plt.rcParams['legend.fontsize'] = FONT_SIZE\n",
    "plt.rcParams['axes.titlesize']=FONT_SIZE\n",
    "plt.rcParams['axes.labelsize']=FONT_SIZE\n",
    "plt.rcParams['figure.figsize'] = (5.0, 5.0)\n",
    "plt.rcParams['font.size'] = FONT_SIZE\n",
    "##############################################\n",
    "\n",
    "idx = np.argmax(model.predict(X_tr)[1], axis = 1)\n",
    "for i in np.unique(idx):\n",
    "    indexes = np.where(idx == i)\n",
    "    _ = plt.plot(X[indexes, 0], X[indexes, 1], '.', color=color[i])\n",
    "\n",
    "plt.subplots_adjust(wspace=0.25, hspace=0.35)\n",
    "plt.show()"
   ]
  },
  {
   "cell_type": "markdown",
   "metadata": {},
   "source": [
    "# Simple Example Mixture of Model"
   ]
  },
  {
   "cell_type": "code",
   "execution_count": 16,
   "metadata": {},
   "outputs": [],
   "source": [
    "K = 2\n",
    "epoch = 100"
   ]
  },
  {
   "cell_type": "code",
   "execution_count": 17,
   "metadata": {},
   "outputs": [
    {
     "data": {
      "application/vnd.jupyter.widget-view+json": {
       "model_id": "1493e9a018984b83a019e6cce3781780",
       "version_major": 2,
       "version_minor": 0
      },
      "text/plain": [
       "HBox(children=(IntProgress(value=0), HTML(value='')))"
      ]
     },
     "metadata": {},
     "output_type": "display_data"
    },
    {
     "name": "stdout",
     "output_type": "stream",
     "text": [
      "\n"
     ]
    }
   ],
   "source": [
    "LIST_A = [torch.Tensor([1, 1]) for _ in range(K)]\n",
    "LIST_w = [torch.Tensor([[0.1], [0.1]]), torch.Tensor([[-0.1], [-0.1]])]\n",
    "\n",
    "LoM = []\n",
    "for k in range(K):\n",
    "    LoM.append(EachModelLinear(input_dim = n, device = device, A = torch.eye(2)*LIST_A[k], w = torch.ones(2,1)*LIST_w[k]))\n",
    "\n",
    "HypPar = {'beta': 1.}\n",
    "\n",
    "HpMd = HyperModelDirichlet(output_dim = K, device = device)\n",
    "\n",
    "model = MixtureEM(input_dim = n, K = K, HyperParameters = HypPar, HyperModel = HpMd, ListOfModels = LoM, device = device)\n",
    "\n",
    "model.fit(X_tr, Y_tr, epoch, progress = tqdm)\n"
   ]
  },
  {
   "cell_type": "code",
   "execution_count": 18,
   "metadata": {},
   "outputs": [
    {
     "data": {
      "text/plain": [
       "array([[1.781699  , 0.38087606],\n",
       "       [1.0997143 , 0.6469836 ]], dtype=float32)"
      ]
     },
     "execution_count": 18,
     "metadata": {},
     "output_type": "execute_result"
    }
   ],
   "source": [
    "np.array([m.W.data.numpy().reshape(-1) for m in model.ListOfModels])"
   ]
  },
  {
   "cell_type": "code",
   "execution_count": 19,
   "metadata": {},
   "outputs": [
    {
     "data": {
      "text/plain": [
       "array([[1.76405235, 0.40015721],\n",
       "       [1.0996596 , 0.65526373]])"
      ]
     },
     "execution_count": 19,
     "metadata": {},
     "output_type": "execute_result"
    }
   ],
   "source": [
    "W_true"
   ]
  },
  {
   "cell_type": "code",
   "execution_count": 20,
   "metadata": {},
   "outputs": [
    {
     "data": {
      "image/png": "[encoded data removed]",
      "text/plain": [
       "<Figure size 360x360 with 1 Axes>"
      ]
     },
     "metadata": {},
     "output_type": "display_data"
    }
   ],
   "source": [
    "FONT_SIZE = 24\n",
    "\n",
    "plt.rcParams['lines.linewidth'] = 3\n",
    "plt.rcParams['lines.markersize'] = 6\n",
    "plt.rcParams['xtick.labelsize'] = FONT_SIZE\n",
    "plt.rcParams['ytick.labelsize'] = FONT_SIZE\n",
    "plt.rcParams['legend.fontsize'] = FONT_SIZE\n",
    "plt.rcParams['axes.titlesize']=FONT_SIZE\n",
    "plt.rcParams['axes.labelsize']=FONT_SIZE\n",
    "plt.rcParams['figure.figsize'] = (5.0, 5.0)\n",
    "plt.rcParams['font.size'] = FONT_SIZE\n",
    "##############################################\n",
    "\n",
    "idx = np.argmax(model.predict(X_tr)[1], axis = 1)\n",
    "for i in np.unique(idx):\n",
    "    indexes = np.where(idx == i)\n",
    "    _ = plt.plot(X[indexes, 0], X[indexes, 1], '.', color=color[i])\n",
    "\n",
    "plt.subplots_adjust(wspace=0.25, hspace=0.35)\n",
    "plt.show()"
   ]
  }
 ],
 "metadata": {
  "kernelspec": {
   "display_name": "Python 3",
   "language": "python",
   "name": "python3"
  },
  "language_info": {
   "codemirror_mode": {
    "name": "ipython",
    "version": 3
   },
   "file_extension": ".py",
   "mimetype": "text/x-python",
   "name": "python",
   "nbconvert_exporter": "python",
   "pygments_lexer": "ipython3",
   "version": "3.6.2"
  }
 },
 "nbformat": 4,
 "nbformat_minor": 2
}
